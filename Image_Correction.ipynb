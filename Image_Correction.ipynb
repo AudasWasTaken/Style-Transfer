{
  "nbformat": 4,
  "nbformat_minor": 0,
  "metadata": {
    "colab": {
      "provenance": [],
      "gpuType": "T4"
    },
    "kernelspec": {
      "name": "python3",
      "display_name": "Python 3"
    },
    "language_info": {
      "name": "python"
    },
    "accelerator": "GPU"
  },
  "cells": [
    {
      "cell_type": "code",
      "source": [
        "import os\n",
        "import shutil\n",
        "import cv2\n",
        "import numpy as np\n",
        "from PIL import Image, ImageEnhance"
      ],
      "metadata": {
        "id": "b0BpkNEdS93A"
      },
      "execution_count": null,
      "outputs": []
    },
    {
      "cell_type": "code",
      "source": [
        "from google.colab import drive\n",
        "drive.mount('/content/drive')"
      ],
      "metadata": {
        "id": "YqTurFMZQbG6",
        "colab": {
          "base_uri": "https://localhost:8080/"
        },
        "outputId": "ad2c2ae8-27d0-4155-8b5b-65d3da6276cb"
      },
      "execution_count": null,
      "outputs": [
        {
          "output_type": "stream",
          "name": "stdout",
          "text": [
            "Drive already mounted at /content/drive; to attempt to forcibly remount, call drive.mount(\"/content/drive\", force_remount=True).\n"
          ]
        }
      ]
    },
    {
      "cell_type": "code",
      "source": [
        "input_root_dir  = \"/content/drive/MyDrive/Colab Notebooks/Style transfer/New images results\"\n",
        "output_root_dir  = \"/content/drive/MyDrive/Colab Notebooks/Style transfer/New images results post-processed\""
      ],
      "metadata": {
        "id": "W_Bpmuo0QcAe"
      },
      "execution_count": null,
      "outputs": []
    },
    {
      "cell_type": "code",
      "execution_count": null,
      "metadata": {
        "id": "9nGklPEGPuQv"
      },
      "outputs": [],
      "source": [
        "def post_process_image(input_image_path, output_image_path):\n",
        "    # Load the image\n",
        "    image = cv2.imread(input_image_path)\n",
        "    image = cv2.cvtColor(image, cv2.COLOR_BGR2RGB)\n",
        "\n",
        "    # Apply Bilateral Filter\n",
        "    image = cv2.bilateralFilter(image, d=9, sigmaColor=75, sigmaSpace=75)\n",
        "\n",
        "    # Convert to PIL for further processing\n",
        "    image = Image.fromarray(image)\n",
        "\n",
        "    # Enhance Contrast\n",
        "    enhancer = ImageEnhance.Contrast(image)\n",
        "    processed_image = enhancer.enhance(1.2)  # You can adjust the factor as needed\n",
        "\n",
        "    # # Convert back to OpenCV\n",
        "    # image = np.array(image)\n",
        "\n",
        "    # # Apply Gaussian Blur\n",
        "    # image = cv2.GaussianBlur(image, (5, 5), 0)\n",
        "\n",
        "    # # Save the processed image\n",
        "    # processed_image = Image.fromarray(image)\n",
        "    processed_image.save(output_image_path)\n"
      ]
    },
    {
      "cell_type": "code",
      "source": [
        "# Create the output directory if it doesn't exist\n",
        "if not os.path.exists(output_root_dir):\n",
        "    os.makedirs(output_root_dir)\n",
        "\n",
        "# Walk through the folder structure of \"Results\"\n",
        "for root, dirs, files in os.walk(input_root_dir):\n",
        "    # Get the relative path to replicate the structure\n",
        "    rel_path = os.path.relpath(root, input_root_dir)\n",
        "\n",
        "    # Create corresponding directory in \"Post processed\"\n",
        "    output_dir = os.path.join(output_root_dir, rel_path)\n",
        "    if not os.path.exists(output_dir):\n",
        "        os.makedirs(output_dir)\n",
        "\n",
        "    # Process each image in the current directory\n",
        "    for file in files:\n",
        "        if file.endswith(('.png', '.jpg', '.jpeg', '.bmp', '.tiff')):  # You can add more image file extensions if needed\n",
        "            input_image_path = os.path.join(root, file)\n",
        "            output_image_path = os.path.join(output_dir, file)\n",
        "\n",
        "            # Post-process and save the image\n",
        "            post_process_image(input_image_path, output_image_path)\n",
        "\n",
        "print(\"Processing complete.\")"
      ],
      "metadata": {
        "colab": {
          "base_uri": "https://localhost:8080/"
        },
        "id": "y5CvDX9CTY_f",
        "outputId": "695beda2-84c3-4de7-b63c-0f4c982f1474"
      },
      "execution_count": null,
      "outputs": [
        {
          "output_type": "stream",
          "name": "stdout",
          "text": [
            "Processing complete.\n"
          ]
        }
      ]
    }
  ]
}